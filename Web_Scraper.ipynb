{
 "cells": [
  {
   "cell_type": "code",
   "execution_count": 12,
   "id": "321bf14c-a1db-4e94-b0b4-2fd011f54607",
   "metadata": {},
   "outputs": [
    {
     "name": "stdout",
     "output_type": "stream",
     "text": [
      "Processing:[===================================================>] 20040/20000\n",
      "Process Complete!\n",
      " Total Elapsed Time:1089.4524924000002 seconds\n"
     ]
    }
   ],
   "source": [
    "# Import libraries\n",
    "import requests\n",
    "from bs4 import BeautifulSoup\n",
    "import pandas as pd\n",
    "import timeit\n",
    "import math\n",
    "from IPython.display import clear_output\n",
    "# Create an URL object\n",
    "final_df = pd.DataFrame({})\n",
    "url_initial = 'https://sofifa.com/players?showCol%5B%5D=pi&showCol%5B%5D=ae&showCol%5B%5D=hi&showCol%5B%5D=wi&showCol%5B%5D=pf&showCol%5B%5D=oa&showCol%5B%5D=pt&showCol%5B%5D=bo&showCol%5B%5D=bp&showCol%5B%5D=gu&showCol%5B%5D=jt&showCol%5B%5D=le&showCol%5B%5D=vl&showCol%5B%5D=wg&showCol%5B%5D=rc&showCol%5B%5D=ta&showCol%5B%5D=cr&showCol%5B%5D=fi&showCol%5B%5D=he&showCol%5B%5D=sh&showCol%5B%5D=tt&showCol%5B%5D=sk&showCol%5B%5D=vo&showCol%5B%5D=ts&showCol%5B%5D=dr&showCol%5B%5D=cu&showCol%5B%5D=fr&showCol%5B%5D=lo&showCol%5B%5D=bl&showCol%5B%5D=ac&showCol%5B%5D=to&showCol%5B%5D=sp&showCol%5B%5D=ag&showCol%5B%5D=ba&showCol%5B%5D=re&showCol%5B%5D=tp&showCol%5B%5D=so&showCol%5B%5D=ju&showCol%5B%5D=st&showCol%5B%5D=ln&showCol%5B%5D=sr&showCol%5B%5D=te&showCol%5B%5D=ar&showCol%5B%5D=po&showCol%5B%5D=in&showCol%5B%5D=pe&showCol%5B%5D=vi&showCol%5B%5D=cm&showCol%5B%5D=td&showCol%5B%5D=ma&showCol%5B%5D=sa&showCol%5B%5D=sl&showCol%5B%5D=tg&showCol%5B%5D=gd&showCol%5B%5D=gh&showCol%5B%5D=gc&showCol%5B%5D=gr&showCol%5B%5D=gp&showCol%5B%5D=bs&showCol%5B%5D=wk&showCol%5B%5D=aw&showCol%5B%5D=dw&showCol%5B%5D=ir&showCol%5B%5D=pac&showCol%5B%5D=sho&showCol%5B%5D=pas&showCol%5B%5D=dri&showCol%5B%5D=def&showCol%5B%5D=phy'\n",
    "index = 0\n",
    "tic = timeit.default_timer()\n",
    "while index<20060:\n",
    "    clear_output(wait=True)\n",
    "    bar = '['+ ('='*math.ceil(50*(index/20000))) +'>'+ ('-'*(50- math.ceil(50*(index/20000)))) +']'\n",
    "    print(f'Processing:{bar} {index}/20000')\n",
    "    url = url_initial+\"&offset=\"+str(index)\n",
    "    requests.get(url)\n",
    "    page = requests.get(url)\n",
    "    soup = BeautifulSoup(page.text, 'lxml')\n",
    "    # Obtain information from tag <table>\n",
    "    table_data = soup.find('table', class_ ='table table-hover persist-area')\n",
    "    table_data\n",
    "    # Obtain every title of columns with tag <th>\n",
    "    headers = []\n",
    "    for i in table_data.find_all('th'):\n",
    "        title = i.text\n",
    "        headers.append(title)\n",
    "\n",
    "    df = pd.DataFrame(columns = headers)\n",
    "\n",
    "    for j in table_data.find_all('tr')[1:]:\n",
    "            row_data = j.find_all('td')\n",
    "            row = [tr.text for tr in row_data]\n",
    "            length = len(df)\n",
    "            df.loc[length] = row\n",
    "    df = df.replace(r'\\n',' ', regex=True)  \n",
    "\n",
    "    # Drop first column of dataframe\n",
    "    df = df.iloc[: , 1:]\n",
    "    #Union the current and previous table\n",
    "    final_df = pd.concat([final_df,df])\n",
    "    index+=60\n",
    "toc = timeit.default_timer()\n",
    "print(f'Process Complete!\\n Total Elapsed Time:{(toc-tic)} seconds')\n",
    "# Export to csv\n",
    "final_df.to_csv('player_data_final.csv', index=False)\n"
   ]
  },
  {
   "cell_type": "code",
   "execution_count": null,
   "id": "f96538f4-9943-4806-bb43-7d745bbfee43",
   "metadata": {},
   "outputs": [],
   "source": []
  }
 ],
 "metadata": {
  "kernelspec": {
   "display_name": "Python 3 (ipykernel)",
   "language": "python",
   "name": "python3"
  },
  "language_info": {
   "codemirror_mode": {
    "name": "ipython",
    "version": 3
   },
   "file_extension": ".py",
   "mimetype": "text/x-python",
   "name": "python",
   "nbconvert_exporter": "python",
   "pygments_lexer": "ipython3",
   "version": "3.8.8"
  }
 },
 "nbformat": 4,
 "nbformat_minor": 5
}
